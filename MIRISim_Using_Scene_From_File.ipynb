{
 "cells": [
  {
   "cell_type": "markdown",
   "metadata": {},
   "source": [
    "#  Create a MIRI simulation using a FITS file\n",
    "\n",
    "Notebook by Karl Gordon (kgordon@stsci.edu) based on MIRISim docs and generous help from various people\n",
    "\n",
    "**NOTE** this notebook must be started within  the mirisim conda environment. This is a requirement for using MIRISim, and installation instructions can be found [here](https://wiki.miricle.org/Public/MirisimInstallation).\n",
    "\n",
    "### Steps in this notebook:\n",
    "\n",
    "1. Create a Scene\n",
    "2. Initialise the simulation parameters\n",
    "3. run the simulation\n",
    "4. examine some of the outputs.  "
   ]
  },
  {
   "cell_type": "code",
   "execution_count": 1,
   "metadata": {},
   "outputs": [
    {
     "name": "stderr",
     "output_type": "stream",
     "text": [
      "/home/kgordon/Bin/miniconda3/envs/mirisim/lib/python3.9/site-packages/pysynphot/locations.py:46: UserWarning: PYSYN_CDBS is undefined; functionality will be SEVERELY crippled.\n",
      "  warnings.warn(\"PYSYN_CDBS is undefined; functionality will be SEVERELY \"\n",
      "/home/kgordon/Bin/miniconda3/envs/mirisim/lib/python3.9/site-packages/pysynphot/locations.py:345: UserWarning: Extinction files not found in extinction\n",
      "  warnings.warn('Extinction files not found in %s' % (extdir, ))\n"
     ]
    }
   ],
   "source": [
    "# import the configuration file parsers so they can be written to file\n",
    "from mirisim.config_parser import SimConfig, SimulatorConfig, SceneConfig\n",
    "\n",
    "# import scene component generators\n",
    "from mirisim.skysim import Background, sed, Point, Galaxy, kinetics\n",
    "from mirisim.skysim import wrap_pysynphot as wS\n",
    "\n",
    "from mirisim import MiriSimulation\n",
    "\n",
    "#other things to be used\n",
    "import numpy as np\n",
    "import glob                 # glob is used to find the output directory\n",
    "import os                   # for listing directory contents\n",
    "from astropy.io import fits # for reading FITS file contents\n",
    "\n",
    "import matplotlib.pyplot as plt    # to display images\n",
    "from matplotlib import colors,cm\n",
    "%matplotlib inline                 "
   ]
  },
  {
   "cell_type": "markdown",
   "metadata": {},
   "source": [
    "## Create a Scene"
   ]
  },
  {
   "cell_type": "code",
   "execution_count": 2,
   "metadata": {},
   "outputs": [
    {
     "name": "stderr",
     "output_type": "stream",
     "text": [
      "2022-03-10 17:13:02,347 - INFO - Initializing Skycube\n",
      "2022-03-10 17:13:02,349 - INFO - Loading external scene from FITS ./scenes/dither_illustration_m101_irac8_SED.fits\n",
      "2022-03-10 17:13:03,740 - INFO - Aligning the centre of the fits file with the centre of the scene\n"
     ]
    }
   ],
   "source": [
    "from mirisim import config_parser as c  # SimConfig, SimulatorConfig, SceneConfig\n",
    "from mirisim import skysim\n",
    "\n",
    "# See MIRISim documentation for details to create a scene\n",
    "# We prepare the scene we want to model\n",
    "# background = skysim.Background(level='high', gradient=0., pa=0.0, centreFOV=(0., 0.)) # High level background\n",
    "\n",
    "# Creation of the scene from FITS file:\n",
    "# fits_ext: the index of the fits file extension where the data cube is stored. 0 index by default if you omit the keyword.\n",
    "# center: If 'yes', the input file is centered anyway, and astrometry ignored.\n",
    "# method: grid interpolation method selected (0, 1 or 2, default is 1).\n",
    "#       - 0: interpolation with no flux conservation rebinning (fast, inaccurate)\n",
    "#       - 1: cumulative trapezoid rule rebinning with interpolation over entire 3D cube (default)\n",
    "#       - 2: cumulative trapezoid rule rebinning with interpolation per each column (scales with the number of pixels - and can be very slow)\n",
    "# conserve: how the flux is conserved (full or wave, default is wave).\n",
    "#       - 'wave': interpolate wavelength grid only to conserve flux (you do not conserve flux over the spatial grid)\n",
    "#       - 'full': full flux conserving interpolation over the full grid of ra, dec, wav\n",
    "cube = skysim.Skycube('./scenes/dither_illustration_m101_irac8_SED.fits', fits_ext=0, center='yes', method=0, conserve=\"wave\")\n",
    "# scene_config = c.SceneConfig.makeScene(loglevel=1, background=background, targets=[cube]) #For Background observations: targets=[]. remove background=background for no background.\n",
    "scene_config = c.SceneConfig.makeScene(loglevel=1, targets=[cube])"
   ]
  },
  {
   "cell_type": "markdown",
   "metadata": {},
   "source": [
    "### Export the scene to an ini file and FITS\n",
    "\n",
    "The scene can also be exported to an ini file (for future use), or a FITS file to be visualised.\n",
    "\n",
    "Exporting to a FITS file requires specifing a number of aditional parametrs such as the Field of view, required spectral sampling, etc. They're described in more detail below. For large fields of view, and/or small spectral channels, which create large FITS files, writing to a FITS file can take a while (few minutes)\n",
    "\n",
    "**NOTE**: export to fits currently (8/Feb/2017) doesn't work properly\n",
    "\n"
   ]
  },
  {
   "cell_type": "code",
   "execution_count": 3,
   "metadata": {},
   "outputs": [],
   "source": [
    "## export to ini file\n",
    "\n",
    "os.system('rm IMA_example_scene.ini')\n",
    "scene_config.write('IMA_example_scene.ini')"
   ]
  },
  {
   "cell_type": "markdown",
   "metadata": {
    "collapsed": true
   },
   "source": [
    "## Initialise the Simulation Parameters"
   ]
  },
  {
   "cell_type": "code",
   "execution_count": 4,
   "metadata": {},
   "outputs": [],
   "source": [
    "sim_config = SimConfig.makeSim(\n",
    "    name = 'ima_simulation',    # name given to simulation\n",
    "    scene = 'IMA_example_scene.ini', # name of scene file to input\n",
    "    rel_obsdate = 0.0,          # relative observation date (0 = launch, 1 = end of 5 yrs)\n",
    "    POP = 'IMA',                # Component on which to center (Imager or MRS)\n",
    "    ConfigPath = 'IMA_FULL',  # Configure the Optical path (MRS sub-band)\n",
    "    Dither = True,             # Don't Dither\n",
    "    StartInd = 1,               # start index for dither pattern\n",
    "    NDither = 4,                # number of dither positions \n",
    "    DitherPat = 'mirisim_dithers/miri_imaging_f770w_4pt_start5.dat', # dither pattern to use\n",
    "    disperser = 'SHORT',        # [NOT USED HERE]\n",
    "    detector = 'SW',            # [NOT USED HERE]\n",
    "    mrs_mode = 'SLOW',          # [NOT USED HERE]\n",
    "    mrs_exposures = 2,          # [NOT USED HERE]\n",
    "    mrs_integrations = 3,       # [NOT USED HERE]\n",
    "    mrs_frames = 5,             # [NOT USED HERE]\n",
    "    ima_exposures = 1,          # number of exposures\n",
    "    ima_integrations = 1,       # number of integrations\n",
    "    ima_frames = 5,             # number of groups (for MIRI, # Groups = # Frames)\n",
    "    ima_mode = 'FAST',          # Imager read mode (default is FAST ~ 2.3 s)\n",
    "    filter = 'F770W',          # Imager Filter to use\n",
    "    readDetect = 'FULL'         # Portion of detector to read out\n",
    ")"
   ]
  },
  {
   "cell_type": "markdown",
   "metadata": {},
   "source": [
    "### Export the simulation setup to a file"
   ]
  },
  {
   "cell_type": "code",
   "execution_count": 5,
   "metadata": {},
   "outputs": [],
   "source": [
    "os.system('rm IMA_simulation.ini')\n",
    "sim_config.write('IMA_simulation.ini')"
   ]
  },
  {
   "cell_type": "markdown",
   "metadata": {},
   "source": [
    "## Run the simulation\n",
    "\n",
    "Now that the scene and the setup of the simulation have been set, we can run the simulation.\n",
    "\n",
    "the last step is to setup the defaults for internal things like CDPs."
   ]
  },
  {
   "cell_type": "code",
   "execution_count": null,
   "metadata": {},
   "outputs": [
    {
     "name": "stderr",
     "output_type": "stream",
     "text": [
      "2022-03-10 17:13:03,788 - INFO - MIRISim version: 2.4.2\n",
      "2022-03-10 17:13:03,789 - INFO - MIRI Simulation started.\n",
      "2022-03-10 17:13:03,791 - INFO - Output will be saved to: 20220310_171303_mirisim\n",
      "2022-03-10 17:13:03,793 - INFO - Storing configs in output directory.\n",
      "2022-03-10 17:13:03,796 - INFO - Storing dither pattern in output directory.\n",
      "2022-03-10 17:13:04,168 - WARNING - Environment variable CDP_DIR is not set. Will look up / store CDP files at ./CDP\n",
      "2022-03-10 17:13:04,215 - INFO - Reading cosmic ray properties from parameter file /home/kgordon/Bin/miniconda3/envs/mirisim/lib/python3.9/site-packages/miri/simulators/scasim/cosmic_ray_properties.py\n",
      "2022-03-10 17:13:04,222 - INFO - Reading detector properties from parameter file /home/kgordon/Bin/miniconda3/envs/mirisim/lib/python3.9/site-packages/miri/simulators/scasim/detector_properties.py\n",
      "2022-03-10 17:13:04,253 - INFO - Setting up simulated Observation, with following settings:\n",
      "2022-03-10 17:13:04,254 - INFO - Configuration Path: IMA_FULL\n",
      "2022-03-10 17:13:04,254 - INFO - Primary optical path: IMA\n",
      "2022-03-10 17:13:04,256 - INFO - IMA Filter: F770W\n",
      "2022-03-10 17:13:04,256 - INFO - IMA Subarray: FULL\n",
      "2022-03-10 17:13:04,257 - INFO - IMA detector readout mode: FAST\n",
      "2022-03-10 17:13:04,258 - INFO - IMA detector # exposures: 1\n",
      "2022-03-10 17:13:04,258 - INFO - IMA detector # integrations: 1\n",
      "2022-03-10 17:13:04,259 - INFO - IMA detector # frames: 5\n",
      "2022-03-10 17:13:04,259 - INFO - Parsing: skycube_1\n",
      "2022-03-10 17:13:04,261 - INFO - Initializing Skycube\n",
      "2022-03-10 17:13:04,262 - INFO - Loading external scene from FITS ./scenes/dither_illustration_m101_irac8_SED.fits\n",
      "2022-03-10 17:13:05,666 - INFO - Aligning the centre of the fits file with the centre of the scene\n",
      "2022-03-10 17:13:05,669 - INFO - Simulating dithered observation using pattern: mirisim_dithers/miri_imaging_f770w_4pt_start5.dat\n",
      "2022-03-10 17:13:05,671 - INFO - Number of dithers defined in dither pattern: 4\n",
      "2022-03-10 17:13:05,672 - INFO - Starting index of executed dither pattern: 1\n",
      "2022-03-10 17:13:05,672 - INFO - Number of executed dither positions: 4\n",
      "2022-03-10 17:13:13,018 - INFO - Reading 'DISTORTION' model from './CDP/MIRI_FM_MIRIMAGE_DISTORTION_07.04.01.fits'\n",
      "2022-03-10 17:13:15,174 - INFO - Reading 'DISTORTION' model from './CDP/MIRI_FM_MIRIMAGE_DISTORTION_07.04.01.fits'\n",
      "2022-03-10 17:13:15,436 - INFO - Creating pointing for position 1\n",
      "2022-03-10 17:13:15,437 - INFO - Creating exposure event for position 1\n",
      "2022-03-10 17:13:15,439 - INFO - Reading 'DISTORTION' model from './CDP/MIRI_FM_MIRIMAGE_DISTORTION_07.04.01.fits'\n",
      "2022-03-10 17:13:15,713 - INFO - Reading 'DISTORTION' model from './CDP/MIRI_FM_MIRIMAGE_DISTORTION_07.04.01.fits'\n",
      "2022-03-10 17:13:15,999 - INFO - Creating pointing for position 2\n",
      "2022-03-10 17:13:16,000 - INFO - Creating offset event before dither position 2\n",
      "2022-03-10 17:13:16,001 - INFO - Creating exposure event for position 2\n",
      "2022-03-10 17:13:16,003 - INFO - Reading 'DISTORTION' model from './CDP/MIRI_FM_MIRIMAGE_DISTORTION_07.04.01.fits'\n",
      "2022-03-10 17:13:16,287 - INFO - Reading 'DISTORTION' model from './CDP/MIRI_FM_MIRIMAGE_DISTORTION_07.04.01.fits'\n",
      "2022-03-10 17:13:16,551 - INFO - Creating pointing for position 3\n",
      "2022-03-10 17:13:16,553 - INFO - Creating offset event before dither position 3\n",
      "2022-03-10 17:13:16,553 - INFO - Creating exposure event for position 3\n",
      "2022-03-10 17:13:16,555 - INFO - Reading 'DISTORTION' model from './CDP/MIRI_FM_MIRIMAGE_DISTORTION_07.04.01.fits'\n",
      "2022-03-10 17:13:16,834 - INFO - Reading 'DISTORTION' model from './CDP/MIRI_FM_MIRIMAGE_DISTORTION_07.04.01.fits'\n",
      "2022-03-10 17:13:17,093 - INFO - Creating pointing for position 4\n",
      "2022-03-10 17:13:17,094 - INFO - Creating offset event before dither position 4\n",
      "2022-03-10 17:13:17,095 - INFO - Creating exposure event for position 4\n",
      "2022-03-10 17:13:17,097 - INFO - Reading 'DISTORTION' model from './CDP/MIRI_FM_MIRIMAGE_DISTORTION_07.04.01.fits'\n",
      "2022-03-10 17:13:17,350 - INFO - Reading 'DISTORTION' model from './CDP/MIRI_FM_MIRIMAGE_DISTORTION_07.04.01.fits'\n",
      "2022-03-10 17:13:17,599 - INFO - Observation simulation started.\n",
      "2022-03-10 17:13:17,600 - INFO - Simulating ExposureEvent for pointing 1\n",
      "2022-03-10 17:13:17,601 - INFO - Simulating Imager exposures for pointing 1\n",
      "2022-03-10 17:13:17,602 - INFO - Simulating detector illumination for Imager exposures for pointing 1\n",
      "2022-03-10 17:13:17,604 - INFO - Running ImSim.\n",
      "2022-03-10 17:13:17,605 - INFO - Running MirimImager (version=36) for subarray=FULL\n",
      "2022-03-10 17:13:17,607 - INFO - Reading 'AREA' model from './CDP/MIRI_FM_MIRIMAGE_AREA_07.00.00.fits'\n",
      "2022-03-10 17:13:17,691 - INFO - Retrieving PCE CDP for filter : F770W\n",
      "2022-03-10 17:13:17,693 - INFO - Reading 'PCE' model from './CDP/MIRI_FM_MIRIMAGE_F770W_PCE_07.00.00.fits'\n",
      "2022-03-10 17:13:17,836 - INFO - Reading 'PSF' model from './CDP/MIRI_FM_MIRIMAGE_F770W_PSF_07.02.00.fits'\n",
      "2022-03-10 17:13:18,090 - INFO - Reading 'DISTORTION' model from './CDP/MIRI_FM_MIRIMAGE_DISTORTION_07.04.01.fits'\n",
      "2022-03-10 17:13:18,350 - INFO - Processing point sources for IMAGER \n",
      "2022-03-10 17:13:18,352 - INFO - No point sources\n",
      "2022-03-10 17:13:18,365 - INFO - No Background\n",
      "2022-03-10 17:13:18,381 - INFO - No extended sources\n",
      "2022-03-10 17:13:24,313 - INFO - Cube interpolation without rebinning.\n",
      "2022-03-10 17:13:39,947 - INFO - Reading 'SKYFLAT' model from './CDP/MIRI_FM_MIRIMAGE_F770W_SKYFLAT_07.00.00.fits'\n",
      "2022-03-10 17:13:40,123 - INFO - Apply Footprint\n",
      "2022-03-10 17:13:40,124 - INFO - Retrieving Foot Print from PIXELFLAT\n",
      "2022-03-10 17:13:40,128 - INFO - Reading 'PIXELFLAT' model from './CDP/MIRI_FM_MIRIMAGE_SLOW_F1000W_PIXELFLAT_07.01.01.fits'\n",
      "2022-03-10 17:13:40,515 - INFO - Wrote illumination model: 20220310_171303_mirisim/illum_models/illum_model_seq1_MIRIMAGE_F770W.fits\n",
      "2022-03-10 17:13:40,516 - INFO - Simulating integrated detector images for Imager exposures for pointing 1\n",
      "2022-03-10 17:13:40,518 - INFO - Simulating Imager exposure 1\n",
      "2022-03-10 17:13:40,529 - INFO - Running SCASim\n",
      "2022-03-10 17:13:40,531 - INFO - Simulating  detector readout for MIRIMAGE from illumination data model of shape (1, 1024, 1032).\n",
      "2022-03-10 17:13:40,551 - INFO - Results will be returned in an exposure data model.\n",
      "2022-03-10 17:13:40,571 - INFO -   Detector readout mode is FAST (samplesum=1, sampleskip=0, nframe=1, groupgap=0) \n",
      "  with 1 integrations and ngroups=5 defined explicitly.\n",
      "  Detector subarray mode is FULL.\n",
      "2022-03-10 17:13:40,572 - INFO - Detector temperature = 6.70 K (which affects dark current and read noise).\n",
      "2022-03-10 17:13:40,573 - INFO - Cosmic ray environment is SOLAR_MIN.\n",
      "2022-03-10 17:13:40,575 - INFO - Reading cosmic ray library file: '/home/kgordon/Bin/miniconda3/envs/mirisim/lib/python3.9/site-packages/miri/simulators/data/cosmic_rays/CRs_SiAs_470_SUNMIN_02.fits'\n",
      "2022-03-10 17:13:40,641 - INFO - Simulation control flags:\n",
      "\tQuantum efficiency simulation turned OFF.\n",
      "\tPoisson noise simulation turned ON.\n",
      "\tRead noise simulation turned ON.\n",
      "\tReference pixels simulation turned ON.\n",
      "\tBad pixels simulation turned ON.\n",
      "\tDark current simulation turned ON.\n",
      "\tFlat-field simulation turned ON.\n",
      "\tAmplifier bias and gain turned ON.\n",
      "\tDetector non-linearity effects turned ON.\n",
      "\tDetector drift effects turned ON.\n",
      "\tDetector latency effects turned ON.\n",
      "2022-03-10 17:13:40,642 - WARNING - ***Illumination map of size 1024 x 1032 is too large! Truncating to detector size of 1024 x 1024 pixels.\n",
      "2022-03-10 17:13:40,647 - INFO - Input subarray mode obtained from illumination map: FULL\n",
      "2022-03-10 17:13:40,648 - INFO - Detector properties translates input subarray FULL into None\n",
      "2022-03-10 17:13:40,651 - INFO - Creating a new detector object for 1024 rows x 1024 columns.\n",
      "2022-03-10 17:13:40,657 - INFO - Reading 'MASK' model from './CDP/MIRI_FM_MIRIMAGE_MASK_07.02.01.fits'\n",
      "2022-03-10 17:13:40,782 - INFO - Reading 'GAIN' model from './CDP/MIRI_FM_MIRIMAGE_GAIN_04.00.00.fits'\n"
     ]
    }
   ],
   "source": [
    "simulator_config = SimulatorConfig.from_default()\n",
    "\n",
    "\n",
    "mysim = MiriSimulation(sim_config,scene_config,simulator_config)\n",
    "mysim.run()"
   ]
  },
  {
   "cell_type": "markdown",
   "metadata": {},
   "source": [
    "## Examine some of the results\n",
    "\n",
    "Now that the MIRISim simulation has completed, lets examine the results. \n",
    "\n",
    "\n",
    "The first thing to note is that the outputs are placed in a date-labelled directory taking the form  <code> YYYYMMDD_hhmmss_mirisim</code>.  The name of the output directory is given in the last line of the MIRISim log above.  Because the output directory is date-labelled, we can quantify which was the most recent run of MIRISim, and find its output directory using <code>glob.glob</code>"
   ]
  },
  {
   "cell_type": "code",
   "execution_count": null,
   "metadata": {},
   "outputs": [],
   "source": [
    "outputdir = sorted(glob.glob('*_*_mirisim'),key=os.path.getmtime)[-1]    #[-1] takes the last entry found\n",
    "\n",
    "outputDirContents = os.listdir(outputdir)\n",
    "\n",
    "directories = [name for name in outputDirContents if os.path.isdir(os.path.join(outputdir,name))]\n",
    "files = [name for name in outputDirContents if not os.path.isdir(os.path.join(outputdir,name))]\n",
    "\n",
    "print('The subdirectories in the outputdirectory are:\\n{}'.format(directories))\n",
    "print('The files in the outputdirectory are:\\n{}'.format(files))"
   ]
  },
  {
   "cell_type": "markdown",
   "metadata": {},
   "source": [
    "The files contain the log which was also output to the terminal (<code> mirisim.log</code>) and copies of the .ini files used (or created from python inputs) to create the simulation. These versions of the .ini files can be used to re-create the run of the simulation\n",
    "\n",
    "The directories contain various outputs of MIRISim:\n",
    "\n",
    "* **<code> illum_models </code>** houses FITS images of the illuminations sent to the detector (sent to SCAsim - the simulator of the Sensor Chip Assembly).  This should have the same format as the detector image, but without all of the detector effects and noise. There are FITS files produced for each exposure and dither position\n",
    "* **<code> det_images </code>** houses FITS images of the final outputs of MIRISim. These detector images have all of the detector effects and noise incorporated. The number of detector images should be the same as the number of illumination models. \n",
    "\n",
    "The headers of the detector images are formatted for ingest into the JWST pipeline. \n",
    "\n",
    "Below is a small code snippet used to draw the images.  it needs to be run, but doesn't produce any output directly (it's called later to show the output images)"
   ]
  },
  {
   "cell_type": "code",
   "execution_count": null,
   "metadata": {},
   "outputs": [],
   "source": [
    "def show_outputs(MIRISim_outputdir,output_type):\n",
    "    '''\n",
    "    plot the specified channel of the MIRISim outputs\n",
    "    :param MIRISim_outputdir:  \n",
    "        name of the date-labelled dir. holding the MIRISIM outputs\n",
    "    :param output_type: \n",
    "        type of output to process \n",
    "        (e.g. illum_models, det_images or skycubes)\n",
    "    '''\n",
    "    \n",
    "    infits = glob.glob('{}/{}/*.fits'.format(MIRISim_outputdir,output_type))[0]\n",
    "    \n",
    "    hdulist = fits.open(infits)\n",
    "    \n",
    "\n",
    "    hdu_index = 1\n",
    "    if len(hdulist[hdu_index].data.shape) > 3:\n",
    "        integ,frames,nx,ny = hdulist[hdu_index].data.shape\n",
    "        image = hdulist[hdu_index].data[integ-1,frames-1,:,:]\n",
    "        \n",
    "        \n",
    "    else:\n",
    "        image = hdulist[hdu_index].data[0,:,:]\n",
    "              \n",
    "    norm = colors.LogNorm(image.mean() + 0.5 * image.std(), image.max(), clip=True)   \n",
    "    plt.imshow(image,origin = 'lower', cmap = cm.viridis,interpolation = 'nearest',norm = norm)\n",
    "    plt.title('{}'.format(infits.split('/')[-1]))\n",
    "    plt.xlabel(\"'RA' Direction\")\n",
    "    plt.ylabel(\"'DEC' Direction\")\n",
    "\n",
    "\n",
    "    plt.colorbar()\n",
    "\n"
   ]
  },
  {
   "cell_type": "markdown",
   "metadata": {},
   "source": [
    "### Viewing an illumination model\n",
    "\n",
    "Below shows an example of an output illumination model"
   ]
  },
  {
   "cell_type": "code",
   "execution_count": null,
   "metadata": {},
   "outputs": [],
   "source": [
    "show_outputs(outputdir,'illum_models')\n"
   ]
  },
  {
   "cell_type": "markdown",
   "metadata": {},
   "source": [
    "## Viewing the final detector image\n",
    "\n",
    "The detector images are the final output of MIRISim, and have data structures and formatting consistent with what will come from MIRI itself. The data format is JWST pipeline ready.  Below an example image of the last frame of the last integration is shown. The units are <code>DN</code>.\n",
    "\n",
    "Additionally, below the FITS header information for the SCIENCE extension is listed"
   ]
  },
  {
   "cell_type": "code",
   "execution_count": null,
   "metadata": {},
   "outputs": [],
   "source": [
    "show_outputs(outputdir,'det_images')\n",
    "\n",
    "infits = glob.glob('{}/det_images/*.fits'.format(outputdir))[0]\n",
    "hdulist = fits.open(infits)\n",
    "hdulist[1].header"
   ]
  },
  {
   "cell_type": "code",
   "execution_count": null,
   "metadata": {},
   "outputs": [],
   "source": []
  }
 ],
 "metadata": {
  "anaconda-cloud": {},
  "kernelspec": {
   "display_name": "Python 3 (ipykernel)",
   "language": "python",
   "name": "python3"
  },
  "language_info": {
   "codemirror_mode": {
    "name": "ipython",
    "version": 3
   },
   "file_extension": ".py",
   "mimetype": "text/x-python",
   "name": "python",
   "nbconvert_exporter": "python",
   "pygments_lexer": "ipython3",
   "version": "3.9.7"
  }
 },
 "nbformat": 4,
 "nbformat_minor": 1
}
