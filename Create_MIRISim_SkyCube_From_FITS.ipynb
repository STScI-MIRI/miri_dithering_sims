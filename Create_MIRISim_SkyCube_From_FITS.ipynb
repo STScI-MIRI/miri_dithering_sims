{
 "cells": [
  {
   "cell_type": "code",
   "execution_count": 1,
   "id": "362e91da",
   "metadata": {},
   "outputs": [],
   "source": [
    "import os\n",
    "import numpy as np\n",
    "from astropy.io import fits\n",
    "import astropy.units as u\n",
    "from astropy.wcs import WCS\n",
    "\n",
    "from astropy.wcs.utils import proj_plane_pixel_scales"
   ]
  },
  {
   "cell_type": "code",
   "execution_count": 2,
   "id": "aecb436c",
   "metadata": {},
   "outputs": [],
   "source": [
    "# read in the M101 image\n",
    "# hdu_in = fits.open(\"data/m101_mips24_26mar07.cal.fits\")\n",
    "hdu_in = fits.open(\"data/m101_irac4_19apr06.cal.fits\")\n",
    "# boost the IRAC4 data to make it easy to see with MIRI (smaller pixels and not that many wavelengths)\n",
    "data_in = hdu_in[0].data * 100.0   # for IRAC 8\n",
    "# data_in = hdu_in[1].data  # for MIPS 24\n",
    "wcs_in = w = WCS(hdu_in[0].header)"
   ]
  },
  {
   "cell_type": "code",
   "execution_count": 3,
   "id": "ab54c284",
   "metadata": {},
   "outputs": [
    {
     "name": "stdout",
     "output_type": "stream",
     "text": [
      "0.6099984\n",
      "0.07507672615384617\n"
     ]
    }
   ],
   "source": [
    "# setup the output data cube info\n",
    "n_waves = 2\n",
    "dwave = 0.1\n",
    "start_wave = 7.6\n",
    "odpix = np.average(proj_plane_pixel_scales(wcs_in) * 3600.)\n",
    "print(odpix)\n",
    "dpix = odpix * (0.8 / 6.5) # * (7.8 / 24.0)\n",
    "print(dpix)"
   ]
  },
  {
   "cell_type": "code",
   "execution_count": 4,
   "id": "1c5445ef",
   "metadata": {},
   "outputs": [],
   "source": [
    "# populate the output data with the input data\n",
    "naxis_in = data_in.shape\n",
    "naxis = (naxis_in[0], naxis_in[1], n_waves)\n",
    "\n",
    "data = np.zeros(naxis)\n",
    "for k in range(n_waves):\n",
    "    # convert to Jy/sr\n",
    "    data[:, :, k] = data_in * 1e6"
   ]
  },
  {
   "cell_type": "code",
   "execution_count": 5,
   "id": "ce9d39ce",
   "metadata": {},
   "outputs": [],
   "source": [
    "# Index of the reference pixel\n",
    "crpix = (1, 1, 1)\n",
    "\n",
    "# Starts at 1\n",
    "\n",
    "# Value of the reference pixel\n",
    "# Axis 1 & 2 are in ra,dec ; Axis 3 is in micron\n",
    "crval = (0., 0., start_wave)\n",
    "cdelt = (dpix, dpix, dwave)\n",
    "\n",
    "# Prepare data to correct dimension order\n",
    "data = np.moveaxis(data, -1, 0)\n",
    "data = np.flip(data, axis=1)\n",
    "hdu = fits.PrimaryHDU(data)\n",
    "hdu.header['CRVAL1'] = crval[0]\n",
    "hdu.header['CRPIX1'] = crpix[0]\n",
    "hdu.header['CDELT1'] = cdelt[0]\n",
    "hdu.header['CTYPE1'] = \"RA---TAN\"\n",
    "hdu.header['CUNIT1'] = u.arcsec.to_string()\n",
    "\n",
    "hdu.header['CRVAL2'] = crval[1]\n",
    "hdu.header['CRPIX2'] = crpix[1]\n",
    "hdu.header['CDELT2'] = cdelt[1]\n",
    "hdu.header['CTYPE2'] = \"DEC--TAN\"\n",
    "hdu.header['CUNIT2'] = u.arcsec.to_string()\n",
    "\n",
    "hdu.header['CRVAL3'] = crval[2]\n",
    "hdu.header['CRPIX3'] = crpix[2]\n",
    "hdu.header['CDELT3'] = cdelt[2]\n",
    "hdu.header['CTYPE3'] = \"WAVE\"\n",
    "hdu.header['CUNIT3'] = u.micron.to_string()\n",
    "\n",
    "hdu.header['UNITS'] = (u.Jy / u.sr).to_string()\n",
    "\n",
    "outFileName = 'scenes/dither_illustration_m101_irac8_SED.fits'\n",
    "if os.path.isfile(outFileName):\n",
    "    os.remove(outFileName)\n",
    "hdu.writeto(outFileName)"
   ]
  },
  {
   "cell_type": "code",
   "execution_count": null,
   "id": "4d5c4a31",
   "metadata": {},
   "outputs": [],
   "source": []
  }
 ],
 "metadata": {
  "kernelspec": {
   "display_name": "Python 3 (ipykernel)",
   "language": "python",
   "name": "python3"
  },
  "language_info": {
   "codemirror_mode": {
    "name": "ipython",
    "version": 3
   },
   "file_extension": ".py",
   "mimetype": "text/x-python",
   "name": "python",
   "nbconvert_exporter": "python",
   "pygments_lexer": "ipython3",
   "version": "3.9.7"
  }
 },
 "nbformat": 4,
 "nbformat_minor": 5
}
